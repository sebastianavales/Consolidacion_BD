{
 "cells": [
  {
   "cell_type": "code",
   "execution_count": null,
   "metadata": {},
   "outputs": [],
   "source": [
    "import pandas as pd\n",
    "from openpyxl import load_workbook\n",
    "import os\n",
    "\n",
    "# Directorio que contiene los archivos CSV\n",
    "ruta = 'C:\\\\HC\\\\2021'\n",
    "os.chdir(ruta)\n",
    "\n",
    "# Lista de archivos en la ruta\n",
    "archivos_csv = [archivo for archivo in os.listdir(ruta) if archivo.endswith('.csv')]\n",
    "\n",
    "for archivo in archivos_csv:\n",
    "\n",
    "    # Nombre de archivo\n",
    "    nombre = os.path.basename(archivo)\n",
    "\n",
    "    # Lectura de archivo\n",
    "    archivo = pd.read_csv(archivo, sep=';', header=None)\n",
    "\n",
    "    # Titulos de archivo\n",
    "    excel_files = \"encabezados.xlsx\"\n",
    "    wb = load_workbook(excel_files)\n",
    "    sheet = wb.active\n",
    "    columns = [cell.value for cell in sheet[1]]\n",
    "    archivo.columns = columns\n",
    "\n",
    "    # Formateo de columnas tipo número\n",
    "    def format_value(value):\n",
    "        if pd.notnull(value):\n",
    "            return str(value).replace('.0', '')\n",
    "        return value\n",
    "    \n",
    "    if archivo['deb_cre_lc'].dtype == object:\n",
    "        archivo['deb_cre_lc'] = archivo['deb_cre_lc'].str.replace('.', '').str.replace(',', '').astype(float)\n",
    "    else:\n",
    "        archivo['deb_cre_lc'] = archivo['deb_cre_lc']\n",
    "    \n",
    "    columns_to_format = ['ref_key1', 'ref_key3', 'deb_cre_lc', 'clr_doc_no', 'sfec_fvig', 'customer', 'vendor', 'sgl_nit']\n",
    "    archivo[columns_to_format] = archivo[columns_to_format].applymap(format_value)\n",
    "\n",
    "    # Exportar el DataFrame\n",
    "    export = 'C:\\\\Users\\\\sebanapa\\\\Documents'\n",
    "    archivo_salida = os.path.join(export, nombre)\n",
    "    archivo.to_csv(archivo_salida, sep=\";\", index=False, header=None)\n",
    "    print(f\"Archivo '{archivo_salida}' generado con éxito.\")"
   ]
  }
 ],
 "metadata": {
  "kernelspec": {
   "display_name": "Python 3",
   "language": "python",
   "name": "python3"
  },
  "language_info": {
   "codemirror_mode": {
    "name": "ipython",
    "version": 3
   },
   "file_extension": ".py",
   "mimetype": "text/x-python",
   "name": "python",
   "nbconvert_exporter": "python",
   "pygments_lexer": "ipython3",
   "version": "3.11.3"
  },
  "orig_nbformat": 4
 },
 "nbformat": 4,
 "nbformat_minor": 2
}
