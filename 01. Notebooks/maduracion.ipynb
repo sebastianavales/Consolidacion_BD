{
 "cells": [
  {
   "cell_type": "code",
   "execution_count": 3,
   "metadata": {},
   "outputs": [],
   "source": [
    "import pandas as pd\n",
    "import numpy as np\n",
    "import glob\n",
    "import warnings\n",
    "import datetime"
   ]
  },
  {
   "cell_type": "markdown",
   "metadata": {},
   "source": [
    "# Importación de recursos necesarios"
   ]
  },
  {
   "cell_type": "code",
   "execution_count": 2,
   "metadata": {},
   "outputs": [],
   "source": [
    "# Titulos de los archivos a concatenar\n",
    "#header = pd.read_csv('header.csv', sep=';', encoding='iso-8859-1')\n",
    "#columns = header.columns.tolist()\n",
    "\n",
    "columns = ['Sociedad','Numero de Documento','Ejercicio','Posicion','Cuenta de Mayor',\\\n",
    "           'Cuenta alternativa','Texto Posicion','Poliza (Clave Ref. 1)','Ramo (Clave Ref. 2)',\\\n",
    "           'Clave Referencia 3','Indicador D/H','Importe Moneda Local','Documento Compensacion',\\\n",
    "           'Fecha de Compensacion','Fecha de Contabilizacion','Periodo','Fecha de Documento',\\\n",
    "           'Fecha Fin Vigencia','Fecha Valor','Clase de Documento','Recibo (Referencia)',\\\n",
    "           'Texto Cabecera','Deudor','Acreedor','Nit','Nombre']\n",
    "\n",
    "\n",
    "# Archivos CSV a concatenar\n",
    "all_files = glob.glob('HARD_CLOSE_2100*.csv') ####### Cambiar ruta"
   ]
  },
  {
   "cell_type": "markdown",
   "metadata": {},
   "source": [
    "# Concatenación de archivos"
   ]
  },
  {
   "cell_type": "code",
   "execution_count": 3,
   "metadata": {},
   "outputs": [],
   "source": [
    "# Lista para almacenar los DataFrames de los archivos CSV\n",
    "dataframes = []\n",
    "\n",
    "# Cargar cada archivo CSV en un DataFrame y agregarlo a la lista\n",
    "for file in all_files:\n",
    "    warnings.filterwarnings('ignore')\n",
    "    df = pd.read_csv(file, sep=';', header=None)\n",
    "    dataframes.append(df)\n",
    "\n",
    "# Concatenar los DataFrames en uno solo\n",
    "maduracion = pd.concat(dataframes, ignore_index=True)\n",
    "maduracion.columns = columns"
   ]
  },
  {
   "cell_type": "markdown",
   "metadata": {},
   "source": [
    "# Formateo columnas"
   ]
  },
  {
   "cell_type": "code",
   "execution_count": 4,
   "metadata": {},
   "outputs": [],
   "source": [
    "# Formateo de columnas tipo número\n",
    "def format_value(value):\n",
    "    if pd.notnull(value):\n",
    "        return str(value).replace('.0', '')\n",
    "    return value\n",
    "columns_to_format = ['Recibo (Referencia)', 'Nit']\n",
    "maduracion[columns_to_format] = maduracion[columns_to_format].applymap(format_value)\n",
    "\n",
    "# Formateo de columnas tipo texto\n",
    "maduracion['Nit'] = maduracion['Nit'].fillna('Vacío')\n",
    "maduracion['Nombre'] = maduracion['Nombre'].fillna('Vacío')"
   ]
  },
  {
   "cell_type": "markdown",
   "metadata": {},
   "source": [
    "# Formulas Maduración"
   ]
  },
  {
   "cell_type": "code",
   "execution_count": 5,
   "metadata": {},
   "outputs": [],
   "source": [
    "# Fecha corte\n",
    "fecha_corte = pd.to_datetime('2023/08/31') ####### Cambiar fecha\n",
    "\n",
    "# Fecha cont\n",
    "maduracion['Fecha cont'] = pd.to_datetime(maduracion['Fecha de Contabilizacion'], format='%Y%m%d').dt.strftime('%Y/%m/%d')\n",
    "\n",
    "# Días entre la fecha de corte y la fecha contable ingresada\n",
    "maduracion['Días Transcurridos'] = (fecha_corte - pd.to_datetime(maduracion['Fecha cont'])).dt.days.astype(int)\n",
    "\n",
    "# 30 días\n",
    "maduracion['30 días'] = maduracion['Importe Moneda Local'].where(maduracion['Días Transcurridos'] <= 30, '')\n",
    "\n",
    "# 60 días\n",
    "maduracion['60 días'] = maduracion['Importe Moneda Local'].where((maduracion['Días Transcurridos'] > 30) & \\\n",
    "                                                                 (maduracion['Días Transcurridos'] <= 60), '')\n",
    "\n",
    "# 90 días\n",
    "maduracion['90 días'] = maduracion['Importe Moneda Local'].where((maduracion['Días Transcurridos'] > 60) & \\\n",
    "                                                                 (maduracion['Días Transcurridos'] <= 90), '')\n",
    "\n",
    "# 180 días\n",
    "maduracion['180 días'] = maduracion['Importe Moneda Local'].where((maduracion['Días Transcurridos'] > 90) & \\\n",
    "                                                                 (maduracion['Días Transcurridos'] <= 180), '')\n",
    "\n",
    "# 360 días\n",
    "maduracion['360 días'] = maduracion['Importe Moneda Local'].where((maduracion['Días Transcurridos'] > 180) & \\\n",
    "                                                                 (maduracion['Días Transcurridos'] <= 360), '')\n",
    "\n",
    "# >360 días\n",
    "maduracion['>360 días'] = maduracion['Importe Moneda Local'].where(maduracion['Días Transcurridos'] > 360, '')"
   ]
  },
  {
   "cell_type": "markdown",
   "metadata": {},
   "source": [
    "# Consolidación de información"
   ]
  },
  {
   "cell_type": "code",
   "execution_count": 6,
   "metadata": {},
   "outputs": [],
   "source": [
    "# Agrupación de registros para consolidar información\n",
    "groupby = maduracion.groupby(['Cuenta de Mayor', 'Recibo (Referencia)', 'Nit', 'Nombre', 'Fecha de Contabilizacion']) .agg({'30 días':'sum', '60 días':'sum', '90 días':'sum', '180 días':'sum', '360 días':'sum', '>360 días':'sum', 'Importe Moneda Local':'sum'}).reset_index()\n",
    "\n",
    "# Registros de cuentas que la sumatoria es igual a cero\n",
    "#cuentas_cero = maduracion[['Cuenta de Mayor', 'Nit', 'Nombre', 'Fecha de Contabilizacion', '30 días', '60 días', '90 días', '180 días', '360 días', '>360 días', 'Importe Moneda Local']].loc[maduracion['Clase de Documento'] == 'II']\n",
    "\n",
    "# Concatenación de registros consolidados y registros con sumatoria cero\n",
    "#final = pd.concat([groupby, cuentas_cero], ignore_index=True)\n",
    "\n",
    "# Sumatoria para validar que el reporte es igual a al total de las cuentas solicitadas\n",
    "total = groupby['Importe Moneda Local'].sum()"
   ]
  },
  {
   "cell_type": "markdown",
   "metadata": {},
   "source": [
    "# Exportación"
   ]
  },
  {
   "cell_type": "code",
   "execution_count": 7,
   "metadata": {},
   "outputs": [],
   "source": [
    "# Exportación de reporte en csv\n",
    "groupby.to_csv('Febrero.csv', sep=';' ,encoding='utf-8-sig', index=False)\n",
    "                ##### Cambiar nombre mes\n",
    "# Exportación de valor total a txt\n",
    "np.savetxt('Total.txt', [total], fmt='%d')"
   ]
  },
  {
   "cell_type": "code",
   "execution_count": 8,
   "metadata": {},
   "outputs": [],
   "source": [
    "# Filtro\n",
    "#### Opcional, no correr si no se requiere filtro\n",
    "# filtro = maduracion[['Cuenta de Mayor', 'Nit', 'Nombre', 'Fecha de Contabilizacion', 'Días Transcurridos', 'Importe Moneda Local', '30 días', '60 días', '90 días', '180 días', '360 días', '>360 días']].loc[maduracion['Cuenta de Mayor'] == 2251100100]"
   ]
  }
 ],
 "metadata": {
  "kernelspec": {
   "display_name": "venv_maduración",
   "language": "python",
   "name": "python3"
  },
  "language_info": {
   "codemirror_mode": {
    "name": "ipython",
    "version": 3
   },
   "file_extension": ".py",
   "mimetype": "text/x-python",
   "name": "python",
   "nbconvert_exporter": "python",
   "pygments_lexer": "ipython3",
   "version": "3.11.3"
  },
  "orig_nbformat": 4
 },
 "nbformat": 4,
 "nbformat_minor": 2
}
