{
 "cells": [
  {
   "cell_type": "code",
   "execution_count": null,
   "metadata": {},
   "outputs": [],
   "source": [
    "import pandas as pd\n",
    "from openpyxl import load_workbook\n",
    "import os\n",
    "\n",
    "# Directorio que contiene los archivos CSV\n",
    "ruta = 'C:/HC'\n",
    "os.chdir(ruta)"
   ]
  },
  {
   "cell_type": "code",
   "execution_count": null,
   "metadata": {},
   "outputs": [],
   "source": [
    "# Lista de archivos en la ruta\n",
    "archivos_csv = [archivo for archivo in os.listdir(ruta) if archivo.endswith('.csv')]"
   ]
  },
  {
   "cell_type": "code",
   "execution_count": null,
   "metadata": {},
   "outputs": [],
   "source": [
    "# Tabla de cruce\n",
    "cruce = pd.read_excel('CuentasCosto_2020_Faltantes.xlsx')"
   ]
  },
  {
   "cell_type": "code",
   "execution_count": null,
   "metadata": {},
   "outputs": [],
   "source": [
    "for archivo in archivos_csv:\n",
    "\n",
    "    # Nombre de archivo\n",
    "    nombre = os.path.basename(archivo)\n",
    "\n",
    "    # Lectura de archivo\n",
    "    archivo = pd.read_csv(archivo, sep=';', header=None)\n",
    "\n",
    "    # Titulos de archivo\n",
    "    columns = ['Sociedad','Numero de Documento','Ejercicio','Posicion','Cuenta de Mayor',\\\n",
    "           'Cuenta alternativa','Texto Posicion','Poliza (Clave Ref. 1)','Ramo (Clave Ref. 2)',\\\n",
    "           'Clave Referencia 3','Indicador D/H','Importe Moneda Local','Documento Compensacion',\\\n",
    "           'Fecha de Compensacion','Fecha de Contabilizacion','Periodo','Fecha de Documento',\\\n",
    "           'Fecha Fin Vigencia','Fecha Valor','Clase de Documento','Recibo (Referencia)',\\\n",
    "           'Texto Cabecera','Deudor','Acreedor','Nit','Nombre']\n",
    "    archivo.columns = columns\n",
    "\n",
    "    # Formateo de columnas tipo número\n",
    "    def format_value(value):\n",
    "        if pd.notnull(value):\n",
    "            return str(value).replace('.0', '')\n",
    "        return value\n",
    "    \n",
    "    columns_to_format = ['Poliza (Clave Ref. 1)', 'Ramo (Clave Ref. 2)', 'Clave Referencia 3', 'Importe Moneda Local', 'Documento Compensacion', 'Fecha Fin Vigencia', 'Recibo (Referencia)', 'Deudor', 'Acreedor', 'Nit']\n",
    "    archivo[columns_to_format] = archivo[columns_to_format].applymap(format_value)\n",
    "\n",
    "    # Filtro para eliminar clase de documento\n",
    "    archivo = archivo.loc[archivo['Clase de Documento'] != 'II']\n",
    "\n",
    "    archivo = archivo.merge(cruce, on='Cuenta de Mayor', how='left')\n",
    "    archivo['Concepto'] = \"\"\n",
    "\n",
    "    archivo = archivo[['Fecha de Contabilizacion', 'Nit', 'Nombre', 'Cuenta de Mayor',\\\n",
    "                        'Importe Moneda Local', 'Cubrimiento', 'Texto Cabecera',\\\n",
    "                        'Regimen', 'Concepto', 'Recibo (Referencia)']]\n",
    "\n",
    "    # Exportar el DataFrame\n",
    "    export = 'C:\\\\Users\\\\sebanapa\\\\Documents'\n",
    "    archivo_salida = os.path.join(export, nombre)\n",
    "    archivo.to_csv(archivo_salida, sep=\";\", index=False)\n",
    "    print(f\"Archivo '{nombre}' generado con éxito.\")"
   ]
  }
 ],
 "metadata": {
  "kernelspec": {
   "display_name": "Python 3",
   "language": "python",
   "name": "python3"
  },
  "language_info": {
   "codemirror_mode": {
    "name": "ipython",
    "version": 3
   },
   "file_extension": ".py",
   "mimetype": "text/x-python",
   "name": "python",
   "nbconvert_exporter": "python",
   "pygments_lexer": "ipython3",
   "version": "3.11.3"
  },
  "orig_nbformat": 4
 },
 "nbformat": 4,
 "nbformat_minor": 2
}
